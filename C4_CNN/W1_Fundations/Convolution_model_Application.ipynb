{
 "cells": [
  {
   "cell_type": "markdown",
   "metadata": {},
   "source": [
    "# Convolutional Neural Networks: Application\n",
    "\n",
    "Welcome to Course 4's second assignment! In this notebook, you will:\n",
    "\n",
    "- Create a mood classifer using the TF Keras Sequential API\n",
    "- Build a ConvNet to identify sign language digits using the TF Keras Functional API\n",
    "\n",
    "**After this assignment you will be able to:**\n",
    "\n",
    "- Build and train a ConvNet in TensorFlow for a __binary__ classification problem\n",
    "- Build and train a ConvNet in TensorFlow for a __multiclass__ classification problem\n",
    "- Explain different use cases for the Sequential and Functional APIs\n",
    "\n",
    "To complete this assignment, you should already be familiar with TensorFlow. If you are not, please refer back to the **TensorFlow Tutorial** of the third week of Course 2 (\"**Improving deep neural networks**\").\n",
    "\n",
    "## Important Note on Submission to the AutoGrader\n",
    "\n",
    "Before submitting your assignment to the AutoGrader, please make sure you are not doing the following:\n",
    "\n",
    "1. You have not added any _extra_ `print` statement(s) in the assignment.\n",
    "2. You have not added any _extra_ code cell(s) in the assignment.\n",
    "3. You have not changed any of the function parameters.\n",
    "4. You are not using any global variables inside your graded exercises. Unless specifically instructed to do so, please refrain from it and use the local variables instead.\n",
    "5. You are not changing the assignment code where it is not required, like creating _extra_ variables.\n",
    "\n",
    "If you do any of the following, you will get something like, `Grader not found` (or similarly unexpected) error upon submitting your assignment. Before asking for help/debugging the errors in your assignment, check for these first. If this is the case, and you don't remember the changes you have made, you can get a fresh copy of the assignment by following these [instructions](https://www.coursera.org/learn/convolutional-neural-networks/supplement/DS4yP/h-ow-to-refresh-your-workspace)."
   ]
  },
  {
   "cell_type": "markdown",
   "metadata": {},
   "source": [
    "## Table of Contents\n",
    "\n",
    "- [1 - Packages](#1)\n",
    "    - [1.1 - Load the Data and Split the Data into Train/Test Sets](#1-1)\n",
    "- [2 - Layers in TF Keras](#2)\n",
    "- [3 - The Sequential API](#3)\n",
    "    - [3.1 - Create the Sequential Model](#3-1)\n",
    "        - [Exercise 1 - happyModel](#ex-1)\n",
    "    - [3.2 - Train and Evaluate the Model](#3-2)\n",
    "- [4 - The Functional API](#4)\n",
    "    - [4.1 - Load the SIGNS Dataset](#4-1)\n",
    "    - [4.2 - Split the Data into Train/Test Sets](#4-2)\n",
    "    - [4.3 - Forward Propagation](#4-3)\n",
    "        - [Exercise 2 - convolutional_model](#ex-2)\n",
    "    - [4.4 - Train the Model](#4-4)\n",
    "- [5 - History Object](#5)\n",
    "- [6 - Bibliography](#6)"
   ]
  },
  {
   "cell_type": "markdown",
   "metadata": {},
   "source": [
    "<a name='1'></a>\n",
    "## 1 - Packages\n",
    "\n",
    "As usual, begin by loading in the packages."
   ]
  },
  {
   "cell_type": "code",
   "execution_count": 1,
   "metadata": {},
   "outputs": [],
   "source": [
    "import math\n",
    "import numpy as np\n",
    "import h5py\n",
    "import matplotlib.pyplot as plt\n",
    "from matplotlib.pyplot import imread\n",
    "import scipy\n",
    "from PIL import Image\n",
    "import pandas as pd\n",
    "import tensorflow as tf\n",
    "import tensorflow.keras.layers as tfl\n",
    "from tensorflow.python.framework import ops\n",
    "from cnn_utils import *\n",
    "from test_utils import summary, comparator\n",
    "\n",
    "%matplotlib inline\n",
    "np.random.seed(1)"
   ]
  },
  {
   "cell_type": "markdown",
   "metadata": {},
   "source": [
    "<a name='1-1'></a>\n",
    "### 1.1 - Load the Data and Split the Data into Train/Test Sets\n",
    "\n",
    "You'll be using the Happy House dataset for this part of the assignment, which contains images of peoples' faces. Your task will be to build a ConvNet that determines whether the people in the images are smiling or not -- because they only get to enter the house if they're smiling!  "
   ]
  },
  {
   "cell_type": "code",
   "execution_count": 2,
   "metadata": {},
   "outputs": [
    {
     "name": "stdout",
     "output_type": "stream",
     "text": [
      "number of training examples = 600\n",
      "number of test examples = 150\n",
      "X_train shape: (600, 64, 64, 3)\n",
      "Y_train shape: (600, 1)\n",
      "X_test shape: (150, 64, 64, 3)\n",
      "Y_test shape: (150, 1)\n"
     ]
    }
   ],
   "source": [
    "X_train_orig, Y_train_orig, X_test_orig, Y_test_orig, classes = load_happy_dataset()\n",
    "\n",
    "# Normalize image vectors\n",
    "X_train = X_train_orig/255.\n",
    "X_test = X_test_orig/255.\n",
    "\n",
    "# Reshape\n",
    "Y_train = Y_train_orig.T\n",
    "Y_test = Y_test_orig.T\n",
    "\n",
    "print (\"number of training examples = \" + str(X_train.shape[0]))\n",
    "print (\"number of test examples = \" + str(X_test.shape[0]))\n",
    "print (\"X_train shape: \" + str(X_train.shape))\n",
    "print (\"Y_train shape: \" + str(Y_train.shape))\n",
    "print (\"X_test shape: \" + str(X_test.shape))\n",
    "print (\"Y_test shape: \" + str(Y_test.shape))"
   ]
  },
  {
   "cell_type": "markdown",
   "metadata": {},
   "source": [
    "You can display the images contained in the dataset. Images are **64x64** pixels in RGB format (3 channels)."
   ]
  },
  {
   "cell_type": "code",
   "execution_count": 3,
   "metadata": {},
   "outputs": [
    {
     "data": {
      "image/png": "[encoded data removed]",
      "text/plain": [
       "<Figure size 432x288 with 1 Axes>"
      ]
     },
     "metadata": {
      "needs_background": "light"
     },
     "output_type": "display_data"
    }
   ],
   "source": [
    "index = 124\n",
    "plt.imshow(X_train_orig[index]) #display sample training image\n",
    "plt.show()"
   ]
  },
  {
   "cell_type": "markdown",
   "metadata": {},
   "source": [
    "<a name='2'></a>\n",
    "## 2 - Layers in TF Keras \n",
    "\n",
    "In the previous assignment, you created layers manually in numpy. In TF Keras, you don't have to write code directly to create layers. Rather, TF Keras has pre-defined layers you can use. \n",
    "\n",
    "When you create a layer in TF Keras, you are creating a function that takes some input and transforms it into an output you can reuse later. Nice and easy! "
   ]
  },
  {
   "cell_type": "markdown",
   "metadata": {},
   "source": [
    "<a name='3'></a>\n",
    "## 3 - The Sequential API\n",
    "\n",
    "In the previous assignment, you built helper functions using `numpy` to understand the mechanics behind convolutional neural networks. Most practical applications of deep learning today are built using programming frameworks, which have many built-in functions you can simply call. Keras is a high-level abstraction built on top of TensorFlow, which allows for even more simplified and optimized model creation and training. \n",
    "\n",
    "For the first part of this assignment, you'll create a model using TF Keras' Sequential API, which allows you to build layer by layer, and is ideal for building models where each layer has **exactly one** input tensor and **one** output tensor. \n",
    "\n",
    "As you'll see, using the Sequential API is simple and straightforward, but is only appropriate for simpler, more straightforward tasks. Later in this notebook you'll spend some time building with a more flexible, powerful alternative: the Functional API. \n",
    " "
   ]
  },
  {
   "cell_type": "markdown",
   "metadata": {},
   "source": [
    "<a name='3-1'></a>\n",
    "### 3.1 - Create the Sequential Model\n",
    "\n",
    "As mentioned earlier, the TensorFlow Keras Sequential API can be used to build simple models with layer operations that proceed in a sequential order. \n",
    "\n",
    "You can also add layers incrementally to a Sequential model with the `.add()` method, or remove them using the `.pop()` method, much like you would in a regular Python list.\n",
    "\n",
    "Actually, you can think of a Sequential model as behaving like a list of layers. Like Python lists, Sequential layers are ordered, and the order in which they are specified matters.  If your model is non-linear or contains layers with multiple inputs or outputs, a Sequential model wouldn't be the right choice!\n",
    "\n",
    "For any layer construction in Keras, you'll need to specify the input shape in advance. This is because in Keras, the shape of the weights is based on the shape of the inputs. The weights are only created when the model first sees some input data. Sequential models can be created by passing a list of layers to the Sequential constructor, like you will do in the next assignment.\n",
    "\n",
    "<a name='ex-1'></a>\n",
    "### Exercise 1 - happyModel\n",
    "\n",
    "Implement the `happyModel` function below to build the following model: `ZEROPAD2D -> CONV2D -> BATCHNORM -> RELU -> MAXPOOL -> FLATTEN -> DENSE`. Take help from [tf.keras.layers](https://www.tensorflow.org/api_docs/python/tf/keras/layers) \n",
    "\n",
    "Also, plug in the following parameters for all the steps:\n",
    "\n",
    " - [ZeroPadding2D](https://www.tensorflow.org/api_docs/python/tf/keras/layers/ZeroPadding2D): padding 3, input shape 64 x 64 x 3\n",
    " - [Conv2D](https://www.tensorflow.org/api_docs/python/tf/keras/layers/Conv2D): Use 32 7x7 filters, stride 1\n",
    " - [BatchNormalization](https://www.tensorflow.org/api_docs/python/tf/keras/layers/BatchNormalization): for axis 3\n",
    " - [ReLU](https://www.tensorflow.org/api_docs/python/tf/keras/layers/ReLU)\n",
    " - [MaxPool2D](https://www.tensorflow.org/api_docs/python/tf/keras/layers/MaxPool2D): Using default parameters\n",
    " - [Flatten](https://www.tensorflow.org/api_docs/python/tf/keras/layers/Flatten) the previous output.\n",
    " - Fully-connected ([Dense](https://www.tensorflow.org/api_docs/python/tf/keras/layers/Dense)) layer: Apply a fully connected layer with 1 neuron and a sigmoid activation. \n",
    " \n",
    " \n",
    " **Hint:**\n",
    " \n",
    " Use **tfl** as shorthand for **tensorflow.keras.layers**"
   ]
  },
  {
   "cell_type": "code",
   "execution_count": 11,
   "metadata": {
    "deletable": false,
    "nbgrader": {
     "cell_type": "code",
     "checksum": "95d28b191f257bdd5b70c7b8952559d5",
     "grade": false,
     "grade_id": "cell-0e56d3fc28b69aec",
     "locked": false,
     "schema_version": 3,
     "solution": true,
     "task": false
    }
   },
   "outputs": [],
   "source": [
    "# GRADED FUNCTION: happyModel\n",
    "\n",
    "def happyModel():\n",
    "    \"\"\"\n",
    "    Implements the forward propagation for the binary classification model:\n",
    "    ZEROPAD2D -> CONV2D -> BATCHNORM -> RELU -> MAXPOOL -> FLATTEN -> DENSE\n",
    "    \n",
    "    Note that for simplicity and grading purposes, you'll hard-code all the values\n",
    "    such as the stride and kernel (filter) sizes. \n",
    "    Normally, functions should take these values as function parameters.\n",
    "    \n",
    "    Arguments:\n",
    "    None\n",
    "\n",
    "    Returns:\n",
    "    model -- TF Keras model (object containing the information for the entire training process) \n",
    "    \"\"\"\n",
    "    model = tf.keras.Sequential([\n",
    "            ## ZeroPadding2D with padding 3, input shape of 64 x 64 x 3\n",
    "            tfl.Input((64,64,3)),\n",
    "            tf.keras.layers.ZeroPadding2D(padding=3),\n",
    "            ## Conv2D with 32 7x7 filters and stride of 1\n",
    "            tfl.Conv2D(32, (7,7),strides=1),\n",
    "            ## BatchNormalization for axis 3\n",
    "            tf.keras.layers.BatchNormalization(axis = 3),\n",
    "            ## ReLU\n",
    "            tfl.ReLU(),\n",
    "            ## Max Pooling 2D with default parameters\n",
    "            tfl.MaxPooling2D(),\n",
    "            ## Flatten layer\n",
    "            tfl.Flatten(),\n",
    "            ## Dense layer with 1 unit for output & 'sigmoid' activation\n",
    "            tfl.Dense(1,activation='sigmoid')\n",
    "            # YOUR CODE STARTS HERE\n",
    "            \n",
    "            # YOUR CODE ENDS HERE\n",
    "        ])\n",
    "    \n",
    "    return model"
   ]
  },
  {
   "cell_type": "code",
   "execution_count": 12,
   "metadata": {
    "deletable": false,
    "editable": false,
    "nbgrader": {
     "cell_type": "code",
     "checksum": "8d3575c950e2e78149be2d05d671c80d",
     "grade": true,
     "grade_id": "cell-e3e1046e5c33d775",
     "locked": true,
     "points": 10,
     "schema_version": 3,
     "solution": false,
     "task": false
    }
   },
   "outputs": [
    {
     "name": "stdout",
     "output_type": "stream",
     "text": [
      "['ZeroPadding2D', (None, 70, 70, 3), 0, ((3, 3), (3, 3))]\n",
      "['Conv2D', (None, 64, 64, 32), 4736, 'valid', 'linear', 'GlorotUniform']\n",
      "['BatchNormalization', (None, 64, 64, 32), 128]\n",
      "['ReLU', (None, 64, 64, 32), 0]\n",
      "['MaxPooling2D', (None, 32, 32, 32), 0, (2, 2), (2, 2), 'valid']\n",
      "['Flatten', (None, 32768), 0]\n",
      "['Dense', (None, 1), 32769, 'sigmoid']\n",
      "\u001b[32mAll tests passed!\u001b[0m\n"
     ]
    }
   ],
   "source": [
    "happy_model = happyModel()\n",
    "# Print a summary for each layer\n",
    "for layer in summary(happy_model):\n",
    "    print(layer)\n",
    "    \n",
    "output = [['ZeroPadding2D', (None, 70, 70, 3), 0, ((3, 3), (3, 3))],\n",
    "            ['Conv2D', (None, 64, 64, 32), 4736, 'valid', 'linear', 'GlorotUniform'],\n",
    "            ['BatchNormalization', (None, 64, 64, 32), 128],\n",
    "            ['ReLU', (None, 64, 64, 32), 0],\n",
    "            ['MaxPooling2D', (None, 32, 32, 32), 0, (2, 2), (2, 2), 'valid'],\n",
    "            ['Flatten', (None, 32768), 0],\n",
    "            ['Dense', (None, 1), 32769, 'sigmoid']]\n",
    "    \n",
    "comparator(summary(happy_model), output)"
   ]
  },
  {
   "cell_type": "markdown",
   "metadata": {},
   "source": [
    "#### Expected Output:\n",
    "\n",
    "```\n",
    "['ZeroPadding2D', (None, 70, 70, 3), 0, ((3, 3), (3, 3))]\n",
    "['Conv2D', (None, 64, 64, 32), 4736, 'valid', 'linear', 'GlorotUniform']\n",
    "['BatchNormalization', (None, 64, 64, 32), 128]\n",
    "['ReLU', (None, 64, 64, 32), 0]\n",
    "['MaxPooling2D', (None, 32, 32, 32), 0, (2, 2), (2, 2), 'valid']\n",
    "['Flatten', (None, 32768), 0]\n",
    "['Dense', (None, 1), 32769, 'sigmoid']\n",
    "All tests passed!\n",
    "```"
   ]
  },
  {
   "cell_type": "markdown",
   "metadata": {},
   "source": [
    "Now that your model is created, you can compile it for training with an optimizer and loss of your choice. When the string `accuracy` is specified as a metric, the type of accuracy used will be automatically converted based on the loss function used. This is one of the many optimizations built into TensorFlow that make your life easier! If you'd like to read more on how the compiler operates, check the docs [here](https://www.tensorflow.org/api_docs/python/tf/keras/Model#compile)."
   ]
  },
  {
   "cell_type": "code",
   "execution_count": 13,
   "metadata": {},
   "outputs": [],
   "source": [
    "happy_model.compile(optimizer='adam',\n",
    "                   loss='binary_crossentropy',\n",
    "                   metrics=['accuracy'])"
   ]
  },
  {
   "cell_type": "markdown",
   "metadata": {},
   "source": [
    "It's time to check your model's parameters with the `.summary()` method. This will display the types of layers you have, the shape of the outputs, and how many parameters are in each layer. "
   ]
  },
  {
   "cell_type": "code",
   "execution_count": 14,
   "metadata": {},
   "outputs": [
    {
     "name": "stdout",
     "output_type": "stream",
     "text": [
      "Model: \"sequential_1\"\n",
      "_________________________________________________________________\n",
      "Layer (type)                 Output Shape              Param #   \n",
      "=================================================================\n",
      "zero_padding2d_2 (ZeroPaddin (None, 70, 70, 3)         0         \n",
      "_________________________________________________________________\n",
      "conv2d_2 (Conv2D)            (None, 64, 64, 32)        4736      \n",
      "_________________________________________________________________\n",
      "batch_normalization_2 (Batch (None, 64, 64, 32)        128       \n",
      "_________________________________________________________________\n",
      "re_lu_2 (ReLU)               (None, 64, 64, 32)        0         \n",
      "_________________________________________________________________\n",
      "max_pooling2d_2 (MaxPooling2 (None, 32, 32, 32)        0         \n",
      "_________________________________________________________________\n",
      "flatten_2 (Flatten)          (None, 32768)             0         \n",
      "_________________________________________________________________\n",
      "dense_1 (Dense)              (None, 1)                 32769     \n",
      "=================================================================\n",
      "Total params: 37,633\n",
      "Trainable params: 37,569\n",
      "Non-trainable params: 64\n",
      "_________________________________________________________________\n"
     ]
    }
   ],
   "source": [
    "happy_model.summary()"
   ]
  },
  {
   "cell_type": "markdown",
   "metadata": {},
   "source": [
    "<a name='3-2'></a>\n",
    "### 3.2 - Train and Evaluate the Model\n",
    "\n",
    "After creating the model, compiling it with your choice of optimizer and loss function, and doing a sanity check on its contents, you are now ready to build! \n",
    "\n",
    "Simply call `.fit()` to train. That's it! No need for mini-batching, saving, or complex backpropagation computations. That's all been done for you, as you're using a TensorFlow dataset with the batches specified already. You do have the option to specify epoch number or minibatch size if you like (for example, in the case of an un-batched dataset)."
   ]
  },
  {
   "cell_type": "code",
   "execution_count": 15,
   "metadata": {},
   "outputs": [
    {
     "name": "stdout",
     "output_type": "stream",
     "text": [
      "Epoch 1/10\n",
      "38/38 [==============================] - 4s 105ms/step - loss: 0.7840 - accuracy: 0.7500\n",
      "Epoch 2/10\n",
      "38/38 [==============================] - 4s 100ms/step - loss: 0.2390 - accuracy: 0.9017\n",
      "Epoch 3/10\n",
      "38/38 [==============================] - 4s 98ms/step - loss: 0.2850 - accuracy: 0.9150\n",
      "Epoch 4/10\n",
      "38/38 [==============================] - 4s 100ms/step - loss: 0.1394 - accuracy: 0.9483\n",
      "Epoch 5/10\n",
      "38/38 [==============================] - 4s 102ms/step - loss: 0.1394 - accuracy: 0.9533\n",
      "Epoch 6/10\n",
      "38/38 [==============================] - 4s 97ms/step - loss: 0.1111 - accuracy: 0.9600\n",
      "Epoch 7/10\n",
      "38/38 [==============================] - 4s 97ms/step - loss: 0.0867 - accuracy: 0.9717\n",
      "Epoch 8/10\n",
      "38/38 [==============================] - 4s 97ms/step - loss: 0.0889 - accuracy: 0.9633\n",
      "Epoch 9/10\n",
      "38/38 [==============================] - 4s 97ms/step - loss: 0.1178 - accuracy: 0.9633\n",
      "Epoch 10/10\n",
      "38/38 [==============================] - 4s 95ms/step - loss: 0.0501 - accuracy: 0.9833\n"
     ]
    },
    {
     "data": {
      "text/plain": [
       "<tensorflow.python.keras.callbacks.History at 0x7fd1391e4090>"
      ]
     },
     "execution_count": 15,
     "metadata": {},
     "output_type": "execute_result"
    }
   ],
   "source": [
    "happy_model.fit(X_train, Y_train, epochs=10, batch_size=16)"
   ]
  },
  {
   "cell_type": "markdown",
   "metadata": {},
   "source": [
    "After that completes, just use `.evaluate()` to evaluate against your test set. This function will print the value of the loss function and the performance metrics specified during the compilation of the model. In this case, the `binary_crossentropy` and the `accuracy` respectively."
   ]
  },
  {
   "cell_type": "code",
   "execution_count": 16,
   "metadata": {},
   "outputs": [
    {
     "name": "stdout",
     "output_type": "stream",
     "text": [
      "5/5 [==============================] - 0s 25ms/step - loss: 0.2091 - accuracy: 0.9067\n"
     ]
    },
    {
     "data": {
      "text/plain": [
       "[0.20908185839653015, 0.9066666960716248]"
      ]
     },
     "execution_count": 16,
     "metadata": {},
     "output_type": "execute_result"
    }
   ],
   "source": [
    "happy_model.evaluate(X_test, Y_test)"
   ]
  },
  {
   "cell_type": "markdown",
   "metadata": {},
   "source": [
    "Easy, right? But what if you need to build a model with shared layers, branches, or multiple inputs and outputs? This is where Sequential, with its beautifully simple yet limited functionality, won't be able to help you. \n",
    "\n",
    "Next up: Enter the Functional API, your slightly more complex, highly flexible friend.  "
   ]
  },
  {
   "cell_type": "markdown",
   "metadata": {},
   "source": [
    "<a name='4'></a>\n",
    "## 4 - The Functional API"
   ]
  },
  {
   "cell_type": "markdown",
   "metadata": {},
   "source": [
    "Welcome to the second half of the assignment, where you'll use Keras' flexible [Functional API](https://www.tensorflow.org/guide/keras/functional) to build a ConvNet that can differentiate between 6 sign language digits. \n",
    "\n",
    "The Functional API can handle models with non-linear topology, shared layers, as well as layers with multiple inputs or outputs. Imagine that, where the Sequential API requires the model to move in a linear fashion through its layers, the Functional API allows much more flexibility. Where Sequential is a straight line, a Functional model is a graph, where the nodes of the layers can connect in many more ways than one. \n",
    "\n",
    "In the visual example below, the one possible direction of the movement Sequential model is shown in contrast to a skip connection, which is just one of the many ways a Functional model can be constructed. A skip connection, as you might have guessed, skips some layer in the network and feeds the output to a later layer in the network. Don't worry, you'll be spending more time with skip connections very soon! "
   ]
  },
  {
   "cell_type": "markdown",
   "metadata": {},
   "source": [
    "<img src=\"images/seq_vs_func.png\" style=\"width:350px;height:200px;\">"
   ]
  },
  {
   "cell_type": "markdown",
   "metadata": {},
   "source": [
    "<a name='4-1'></a>\n",
    "### 4.1 - Load the SIGNS Dataset\n",
    "\n",
    "As a reminder, the SIGNS dataset is a collection of 6 signs representing numbers from 0 to 5."
   ]
  },
  {
   "cell_type": "code",
   "execution_count": 17,
   "metadata": {},
   "outputs": [],
   "source": [
    "# Loading the data (signs)\n",
    "X_train_orig, Y_train_orig, X_test_orig, Y_test_orig, classes = load_signs_dataset()"
   ]
  },
  {
   "cell_type": "markdown",
   "metadata": {},
   "source": [
    "<img src=\"images/SIGNS.png\" style=\"width:800px;height:300px;\">\n",
    "\n",
    "The next cell will show you an example of a labelled image in the dataset. Feel free to change the value of `index` below and re-run to see different examples. "
   ]
  },
  {
   "cell_type": "code",
   "execution_count": 18,
   "metadata": {},
   "outputs": [
    {
     "name": "stdout",
     "output_type": "stream",
     "text": [
      "y = 4\n"
     ]
    },
    {
     "data": {
      "image/png": "[encoded data removed]",
      "text/plain": [
       "<Figure size 432x288 with 1 Axes>"
      ]
     },
     "metadata": {
      "needs_background": "light"
     },
     "output_type": "display_data"
    }
   ],
   "source": [
    "# Example of an image from the dataset\n",
    "index = 9\n",
    "plt.imshow(X_train_orig[index])\n",
    "print (\"y = \" + str(np.squeeze(Y_train_orig[:, index])))"
   ]
  },
  {
   "cell_type": "markdown",
   "metadata": {},
   "source": [
    "<a name='4-2'></a>\n",
    "### 4.2 - Split the Data into Train/Test Sets\n",
    "\n",
    "In Course 2, you built a fully-connected network for this dataset. But since this is an image dataset, it is more natural to apply a ConvNet to it.\n",
    "\n",
    "To get started, let's examine the shapes of your data. "
   ]
  },
  {
   "cell_type": "code",
   "execution_count": 19,
   "metadata": {},
   "outputs": [
    {
     "name": "stdout",
     "output_type": "stream",
     "text": [
      "number of training examples = 1080\n",
      "number of test examples = 120\n",
      "X_train shape: (1080, 64, 64, 3)\n",
      "Y_train shape: (1080, 6)\n",
      "X_test shape: (120, 64, 64, 3)\n",
      "Y_test shape: (120, 6)\n"
     ]
    }
   ],
   "source": [
    "X_train = X_train_orig/255.\n",
    "X_test = X_test_orig/255.\n",
    "Y_train = convert_to_one_hot(Y_train_orig, 6).T\n",
    "Y_test = convert_to_one_hot(Y_test_orig, 6).T\n",
    "print (\"number of training examples = \" + str(X_train.shape[0]))\n",
    "print (\"number of test examples = \" + str(X_test.shape[0]))\n",
    "print (\"X_train shape: \" + str(X_train.shape))\n",
    "print (\"Y_train shape: \" + str(Y_train.shape))\n",
    "print (\"X_test shape: \" + str(X_test.shape))\n",
    "print (\"Y_test shape: \" + str(Y_test.shape))"
   ]
  },
  {
   "cell_type": "markdown",
   "metadata": {},
   "source": [
    "<a name='4-3'></a>\n",
    "### 4.3 - Forward Propagation\n",
    "\n",
    "In TensorFlow, there are built-in functions that implement the convolution steps for you. By now, you should be familiar with how TensorFlow builds computational graphs. In the [Functional API](https://www.tensorflow.org/guide/keras/functional), you create a graph of layers. This is what allows such great flexibility.\n",
    "\n",
    "However, the following model could also be defined using the Sequential API since the information flow is on a single line. But don't deviate. What we want you to learn is to use the functional API.\n",
    "\n",
    "Begin building your graph of layers by creating an input node that functions as a callable object:\n",
    "\n",
    "- **input_img = tf.keras.Input(shape=input_shape):** \n",
    "\n",
    "Then, create a new node in the graph of layers by calling a layer on the `input_img` object: \n",
    "\n",
    "- **tf.keras.layers.Conv2D(filters= ... , kernel_size= ... , padding='same')(input_img):** Read the full documentation on [Conv2D](https://www.tensorflow.org/api_docs/python/tf/keras/layers/Conv2D).\n",
    "\n",
    "- **tf.keras.layers.MaxPool2D(pool_size=(f, f), strides=(s, s), padding='same'):** `MaxPool2D()` downsamples your input using a window of size (f, f) and strides of size (s, s) to carry out max pooling over each window.  For max pooling, you usually operate on a single example at a time and a single channel at a time. Read the full documentation on [MaxPool2D](https://www.tensorflow.org/api_docs/python/tf/keras/layers/MaxPool2D).\n",
    "\n",
    "- **tf.keras.layers.ReLU():** computes the elementwise ReLU of Z (which can be any shape). You can read the full documentation on [ReLU](https://www.tensorflow.org/api_docs/python/tf/keras/layers/ReLU).\n",
    "\n",
    "- **tf.keras.layers.Flatten()**: given a tensor \"P\", this function takes each training (or test) example in the batch and flattens it into a 1D vector.  \n",
    "\n",
    "    * If a tensor P has the shape (batch_size,h,w,c), it returns a flattened tensor with shape (batch_size, k), where $k=h \\times w \\times c$.  \"k\" equals the product of all the dimension sizes other than the first dimension.\n",
    "    \n",
    "    * For example, given a tensor with dimensions [100, 2, 3, 4], it flattens the tensor to be of shape [100, 24], where 24 = 2 * 3 * 4.  You can read the full documentation on [Flatten](https://www.tensorflow.org/api_docs/python/tf/keras/layers/Flatten).\n",
    "\n",
    "- **tf.keras.layers.Dense(units= ... , activation='softmax')(F):** given the flattened input F, it returns the output computed using a fully connected layer. You can read the full documentation on [Dense](https://www.tensorflow.org/api_docs/python/tf/keras/layers/Dense).\n",
    "\n",
    "In the last function above (`tf.keras.layers.Dense()`), the fully connected layer automatically initializes weights in the graph and keeps on training them as you train the model. Hence, you did not need to initialize those weights when initializing the parameters.\n",
    "\n",
    "Lastly, before creating the model, you'll need to define the output using the last of the function's compositions (in this example, a Dense layer): \n",
    "\n",
    "- **outputs = tf.keras.layers.Dense(units=6, activation='softmax')(F)**\n",
    "\n",
    "\n",
    "#### Window, kernel, filter, pool\n",
    "\n",
    "The words \"kernel\" and \"filter\" are used to refer to the same thing. The word \"filter\" accounts for the amount of \"kernels\" that will be used in a single convolution layer. \"Pool\" is the name of the operation that takes the max or average value of the kernels. \n",
    "\n",
    "This is why the parameter `pool_size` refers to `kernel_size`, and you use `(f,f)` to refer to the filter size. \n",
    "\n",
    "Pool size and kernel size refer to the same thing in different objects - They refer to the shape of the window where the operation takes place. "
   ]
  },
  {
   "cell_type": "markdown",
   "metadata": {},
   "source": [
    "<a name='ex-2'></a>\n",
    "### Exercise 2 - convolutional_model\n",
    "\n",
    "Implement the `convolutional_model` function below to build the following model: `CONV2D -> RELU -> MAXPOOL -> CONV2D -> RELU -> MAXPOOL -> FLATTEN -> DENSE`. Use the functions above! \n",
    "\n",
    "Also, plug in the following parameters for all the steps:\n",
    "\n",
    " - [Conv2D](https://www.tensorflow.org/api_docs/python/tf/keras/layers/Conv2D): Use 8 4 by 4 filters, stride 1, padding is \"SAME\"\n",
    " - [ReLU](https://www.tensorflow.org/api_docs/python/tf/keras/layers/ReLU)\n",
    " - [MaxPool2D](https://www.tensorflow.org/api_docs/python/tf/keras/layers/MaxPool2D): Use an 8 by 8 filter size and an 8 by 8 stride, padding is \"SAME\"\n",
    " - **Conv2D**: Use 16 2 by 2 filters, stride 1, padding is \"SAME\"\n",
    " - **ReLU**\n",
    " - **MaxPool2D**: Use a 4 by 4 filter size and a 4 by 4 stride, padding is \"SAME\"\n",
    " - [Flatten](https://www.tensorflow.org/api_docs/python/tf/keras/layers/Flatten) the previous output.\n",
    " - Fully-connected ([Dense](https://www.tensorflow.org/api_docs/python/tf/keras/layers/Dense)) layer: Apply a fully connected layer with 6 neurons and a softmax activation. "
   ]
  },
  {
   "cell_type": "code",
   "execution_count": 26,
   "metadata": {
    "deletable": false,
    "nbgrader": {
     "cell_type": "code",
     "checksum": "f58643806aa8380c96225fc8b4c5e7aa",
     "grade": false,
     "grade_id": "cell-dac51744a9e03f51",
     "locked": false,
     "schema_version": 3,
     "solution": true,
     "task": false
    }
   },
   "outputs": [],
   "source": [
    "# GRADED FUNCTION: convolutional_model\n",
    "\n",
    "def convolutional_model(input_shape):\n",
    "    \"\"\"\n",
    "    Implements the forward propagation for the model:\n",
    "    CONV2D -> RELU -> MAXPOOL -> CONV2D -> RELU -> MAXPOOL -> FLATTEN -> DENSE\n",
    "    \n",
    "    Note that for simplicity and grading purposes, you'll hard-code some values\n",
    "    such as the stride and kernel (filter) sizes. \n",
    "    Normally, functions should take these values as function parameters.\n",
    "    \n",
    "    Arguments:\n",
    "    input_img -- input dataset, of shape (input_shape)\n",
    "\n",
    "    Returns:\n",
    "    model -- TF Keras model (object containing the information for the entire training process) \n",
    "    \"\"\"\n",
    "\n",
    "    input_img = tf.keras.Input(shape=input_shape)\n",
    "    ## CONV2D: 8 filters 4x4, stride of 1, padding 'SAME'\n",
    "    Z1 = tfl.Conv2D(8,(4,4),strides=1,padding='SAME')(input_img)\n",
    "    ## RELU\n",
    "    A1 = tfl.ReLU()(Z1)\n",
    "    ## MAXPOOL: window 8x8, stride 8, padding 'SAME'\n",
    "    P1 = tfl.MaxPool2D(pool_size=(8, 8), strides=8, padding='SAME')(A1)\n",
    "    ## CONV2D: 16 filters 2x2, stride 1, padding 'SAME'\n",
    "    Z2 = tfl.Conv2D(16,(2,2),strides=1,padding='SAME')(P1)\n",
    "    ## RELU\n",
    "    A2 = tfl.ReLU()(Z2)\n",
    "    ## MAXPOOL: window 4x4, stride 4, padding 'SAME'\n",
    "    P2 = tfl.MaxPool2D(pool_size=(4,4),strides=4,padding='SAME')(A2)\n",
    "    ## FLATTEN\n",
    "    F = tfl.Flatten()(P2)\n",
    "    ## Dense layer\n",
    "    ## 6 neurons in output layer. Hint: one of the arguments should be \"activation='softmax'\" \n",
    "    outputs = tfl.Dense(6,activation='softmax')(F)\n",
    "    # YOUR CODE STARTS HERE\n",
    "    \n",
    "    \n",
    "    # YOUR CODE ENDS HERE\n",
    "    model = tf.keras.Model(inputs=input_img, outputs=outputs)\n",
    "    return model"
   ]
  },
  {
   "cell_type": "code",
   "execution_count": 27,
   "metadata": {
    "deletable": false,
    "editable": false,
    "nbgrader": {
     "cell_type": "code",
     "checksum": "483d626949930a0b0ef20997e7c6ba72",
     "grade": true,
     "grade_id": "cell-45d22e92042174c9",
     "locked": true,
     "points": 10,
     "schema_version": 3,
     "solution": false,
     "task": false
    }
   },
   "outputs": [
    {
     "name": "stdout",
     "output_type": "stream",
     "text": [
      "Model: \"functional_1\"\n",
      "_________________________________________________________________\n",
      "Layer (type)                 Output Shape              Param #   \n",
      "=================================================================\n",
      "input_3 (InputLayer)         [(None, 64, 64, 3)]       0         \n",
      "_________________________________________________________________\n",
      "conv2d_5 (Conv2D)            (None, 64, 64, 8)         392       \n",
      "_________________________________________________________________\n",
      "re_lu_5 (ReLU)               (None, 64, 64, 8)         0         \n",
      "_________________________________________________________________\n",
      "max_pooling2d_5 (MaxPooling2 (None, 8, 8, 8)           0         \n",
      "_________________________________________________________________\n",
      "conv2d_6 (Conv2D)            (None, 8, 8, 16)          528       \n",
      "_________________________________________________________________\n",
      "re_lu_6 (ReLU)               (None, 8, 8, 16)          0         \n",
      "_________________________________________________________________\n",
      "max_pooling2d_6 (MaxPooling2 (None, 2, 2, 16)          0         \n",
      "_________________________________________________________________\n",
      "flatten_3 (Flatten)          (None, 64)                0         \n",
      "_________________________________________________________________\n",
      "dense_2 (Dense)              (None, 6)                 390       \n",
      "=================================================================\n",
      "Total params: 1,310\n",
      "Trainable params: 1,310\n",
      "Non-trainable params: 0\n",
      "_________________________________________________________________\n",
      "\u001b[32mAll tests passed!\u001b[0m\n"
     ]
    }
   ],
   "source": [
    "conv_model = convolutional_model((64, 64, 3))\n",
    "conv_model.compile(optimizer='adam',\n",
    "                  loss='categorical_crossentropy',\n",
    "                  metrics=['accuracy'])\n",
    "conv_model.summary()\n",
    "    \n",
    "output = [['InputLayer', [(None, 64, 64, 3)], 0],\n",
    "        ['Conv2D', (None, 64, 64, 8), 392, 'same', 'linear', 'GlorotUniform'],\n",
    "        ['ReLU', (None, 64, 64, 8), 0],\n",
    "        ['MaxPooling2D', (None, 8, 8, 8), 0, (8, 8), (8, 8), 'same'],\n",
    "        ['Conv2D', (None, 8, 8, 16), 528, 'same', 'linear', 'GlorotUniform'],\n",
    "        ['ReLU', (None, 8, 8, 16), 0],\n",
    "        ['MaxPooling2D', (None, 2, 2, 16), 0, (4, 4), (4, 4), 'same'],\n",
    "        ['Flatten', (None, 64), 0],\n",
    "        ['Dense', (None, 6), 390, 'softmax']]\n",
    "    \n",
    "comparator(summary(conv_model), output)"
   ]
  },
  {
   "cell_type": "markdown",
   "metadata": {},
   "source": [
    "Both the Sequential and Functional APIs return a TF Keras model object. The only difference is how inputs are handled inside the object model! "
   ]
  },
  {
   "cell_type": "markdown",
   "metadata": {},
   "source": [
    "<a name='4-4'></a>\n",
    "### 4.4 - Train the Model"
   ]
  },
  {
   "cell_type": "code",
   "execution_count": 28,
   "metadata": {},
   "outputs": [
    {
     "name": "stdout",
     "output_type": "stream",
     "text": [
      "Epoch 1/100\n",
      "17/17 [==============================] - 2s 112ms/step - loss: 1.7941 - accuracy: 0.1991 - val_loss: 1.7841 - val_accuracy: 0.2250\n",
      "Epoch 2/100\n",
      "17/17 [==============================] - 2s 105ms/step - loss: 1.7775 - accuracy: 0.2704 - val_loss: 1.7774 - val_accuracy: 0.2833\n",
      "Epoch 3/100\n",
      "17/17 [==============================] - 2s 106ms/step - loss: 1.7696 - accuracy: 0.3194 - val_loss: 1.7720 - val_accuracy: 0.3333\n",
      "Epoch 4/100\n",
      "17/17 [==============================] - 2s 106ms/step - loss: 1.7608 - accuracy: 0.3741 - val_loss: 1.7648 - val_accuracy: 0.3500\n",
      "Epoch 5/100\n",
      "17/17 [==============================] - 2s 106ms/step - loss: 1.7488 - accuracy: 0.3963 - val_loss: 1.7549 - val_accuracy: 0.3917\n",
      "Epoch 6/100\n",
      "17/17 [==============================] - 2s 106ms/step - loss: 1.7314 - accuracy: 0.4065 - val_loss: 1.7412 - val_accuracy: 0.3833\n",
      "Epoch 7/100\n",
      "17/17 [==============================] - 2s 112ms/step - loss: 1.7077 - accuracy: 0.3991 - val_loss: 1.7203 - val_accuracy: 0.4083\n",
      "Epoch 8/100\n",
      "17/17 [==============================] - 2s 106ms/step - loss: 1.6787 - accuracy: 0.4093 - val_loss: 1.6959 - val_accuracy: 0.4167\n",
      "Epoch 9/100\n",
      "17/17 [==============================] - 2s 112ms/step - loss: 1.6437 - accuracy: 0.4324 - val_loss: 1.6666 - val_accuracy: 0.3833\n",
      "Epoch 10/100\n",
      "17/17 [==============================] - 2s 106ms/step - loss: 1.6041 - accuracy: 0.4352 - val_loss: 1.6320 - val_accuracy: 0.4000\n",
      "Epoch 11/100\n",
      "17/17 [==============================] - 2s 107ms/step - loss: 1.5611 - accuracy: 0.4509 - val_loss: 1.5934 - val_accuracy: 0.4167\n",
      "Epoch 12/100\n",
      "17/17 [==============================] - 2s 106ms/step - loss: 1.5155 - accuracy: 0.4528 - val_loss: 1.5518 - val_accuracy: 0.4167\n",
      "Epoch 13/100\n",
      "17/17 [==============================] - 2s 106ms/step - loss: 1.4720 - accuracy: 0.4787 - val_loss: 1.5083 - val_accuracy: 0.4500\n",
      "Epoch 14/100\n",
      "17/17 [==============================] - 2s 107ms/step - loss: 1.4277 - accuracy: 0.4907 - val_loss: 1.4669 - val_accuracy: 0.4667\n",
      "Epoch 15/100\n",
      "17/17 [==============================] - 2s 106ms/step - loss: 1.3870 - accuracy: 0.5148 - val_loss: 1.4271 - val_accuracy: 0.4833\n",
      "Epoch 16/100\n",
      "17/17 [==============================] - 2s 106ms/step - loss: 1.3499 - accuracy: 0.5250 - val_loss: 1.3894 - val_accuracy: 0.5083\n",
      "Epoch 17/100\n",
      "17/17 [==============================] - 2s 106ms/step - loss: 1.3125 - accuracy: 0.5417 - val_loss: 1.3554 - val_accuracy: 0.5250\n",
      "Epoch 18/100\n",
      "17/17 [==============================] - 2s 106ms/step - loss: 1.2806 - accuracy: 0.5509 - val_loss: 1.3254 - val_accuracy: 0.5250\n",
      "Epoch 19/100\n",
      "17/17 [==============================] - 2s 107ms/step - loss: 1.2483 - accuracy: 0.5593 - val_loss: 1.2954 - val_accuracy: 0.5250\n",
      "Epoch 20/100\n",
      "17/17 [==============================] - 2s 111ms/step - loss: 1.2200 - accuracy: 0.5667 - val_loss: 1.2694 - val_accuracy: 0.5250\n",
      "Epoch 21/100\n",
      "17/17 [==============================] - 2s 106ms/step - loss: 1.1925 - accuracy: 0.5778 - val_loss: 1.2413 - val_accuracy: 0.5417\n",
      "Epoch 22/100\n",
      "17/17 [==============================] - 2s 105ms/step - loss: 1.1653 - accuracy: 0.5926 - val_loss: 1.2193 - val_accuracy: 0.5583\n",
      "Epoch 23/100\n",
      "17/17 [==============================] - 2s 106ms/step - loss: 1.1397 - accuracy: 0.6046 - val_loss: 1.1920 - val_accuracy: 0.5667\n",
      "Epoch 24/100\n",
      "17/17 [==============================] - 2s 106ms/step - loss: 1.1137 - accuracy: 0.6176 - val_loss: 1.1732 - val_accuracy: 0.5750\n",
      "Epoch 25/100\n",
      "17/17 [==============================] - 2s 107ms/step - loss: 1.0904 - accuracy: 0.6407 - val_loss: 1.1507 - val_accuracy: 0.6083\n",
      "Epoch 26/100\n",
      "17/17 [==============================] - 2s 106ms/step - loss: 1.0662 - accuracy: 0.6481 - val_loss: 1.1339 - val_accuracy: 0.6000\n",
      "Epoch 27/100\n",
      "17/17 [==============================] - 2s 107ms/step - loss: 1.0438 - accuracy: 0.6593 - val_loss: 1.1119 - val_accuracy: 0.6167\n",
      "Epoch 28/100\n",
      "17/17 [==============================] - 2s 106ms/step - loss: 1.0213 - accuracy: 0.6639 - val_loss: 1.0939 - val_accuracy: 0.6333\n",
      "Epoch 29/100\n",
      "17/17 [==============================] - 2s 106ms/step - loss: 1.0009 - accuracy: 0.6704 - val_loss: 1.0769 - val_accuracy: 0.6250\n",
      "Epoch 30/100\n",
      "17/17 [==============================] - 2s 111ms/step - loss: 0.9801 - accuracy: 0.6778 - val_loss: 1.0615 - val_accuracy: 0.6167\n",
      "Epoch 31/100\n",
      "17/17 [==============================] - 2s 106ms/step - loss: 0.9605 - accuracy: 0.6907 - val_loss: 1.0438 - val_accuracy: 0.6417\n",
      "Epoch 32/100\n",
      "17/17 [==============================] - 2s 106ms/step - loss: 0.9419 - accuracy: 0.6963 - val_loss: 1.0301 - val_accuracy: 0.6417\n",
      "Epoch 33/100\n",
      "17/17 [==============================] - 2s 111ms/step - loss: 0.9235 - accuracy: 0.7019 - val_loss: 1.0166 - val_accuracy: 0.6417\n",
      "Epoch 34/100\n",
      "17/17 [==============================] - 2s 106ms/step - loss: 0.9053 - accuracy: 0.7056 - val_loss: 1.0044 - val_accuracy: 0.6500\n",
      "Epoch 35/100\n",
      "17/17 [==============================] - 2s 112ms/step - loss: 0.8879 - accuracy: 0.7083 - val_loss: 0.9918 - val_accuracy: 0.6500\n",
      "Epoch 36/100\n",
      "17/17 [==============================] - 2s 106ms/step - loss: 0.8707 - accuracy: 0.7148 - val_loss: 0.9785 - val_accuracy: 0.6500\n",
      "Epoch 37/100\n",
      "17/17 [==============================] - 2s 106ms/step - loss: 0.8547 - accuracy: 0.7269 - val_loss: 0.9642 - val_accuracy: 0.6583\n",
      "Epoch 38/100\n",
      "17/17 [==============================] - 2s 106ms/step - loss: 0.8392 - accuracy: 0.7306 - val_loss: 0.9530 - val_accuracy: 0.6583\n",
      "Epoch 39/100\n",
      "17/17 [==============================] - 2s 106ms/step - loss: 0.8240 - accuracy: 0.7389 - val_loss: 0.9407 - val_accuracy: 0.6583\n",
      "Epoch 40/100\n",
      "17/17 [==============================] - 2s 106ms/step - loss: 0.8099 - accuracy: 0.7435 - val_loss: 0.9289 - val_accuracy: 0.6583\n",
      "Epoch 41/100\n",
      "17/17 [==============================] - 2s 106ms/step - loss: 0.7958 - accuracy: 0.7509 - val_loss: 0.9188 - val_accuracy: 0.6583\n",
      "Epoch 42/100\n",
      "17/17 [==============================] - 2s 106ms/step - loss: 0.7815 - accuracy: 0.7546 - val_loss: 0.9068 - val_accuracy: 0.6583\n",
      "Epoch 43/100\n",
      "17/17 [==============================] - 2s 111ms/step - loss: 0.7683 - accuracy: 0.7546 - val_loss: 0.8957 - val_accuracy: 0.6667\n",
      "Epoch 44/100\n",
      "17/17 [==============================] - 2s 106ms/step - loss: 0.7554 - accuracy: 0.7583 - val_loss: 0.8859 - val_accuracy: 0.6750\n",
      "Epoch 45/100\n",
      "17/17 [==============================] - 2s 106ms/step - loss: 0.7426 - accuracy: 0.7630 - val_loss: 0.8761 - val_accuracy: 0.6833\n",
      "Epoch 46/100\n",
      "17/17 [==============================] - 2s 111ms/step - loss: 0.7304 - accuracy: 0.7722 - val_loss: 0.8675 - val_accuracy: 0.6833\n",
      "Epoch 47/100\n",
      "17/17 [==============================] - 2s 106ms/step - loss: 0.7186 - accuracy: 0.7815 - val_loss: 0.8582 - val_accuracy: 0.6833\n",
      "Epoch 48/100\n",
      "17/17 [==============================] - 2s 107ms/step - loss: 0.7068 - accuracy: 0.7852 - val_loss: 0.8500 - val_accuracy: 0.6917\n",
      "Epoch 49/100\n",
      "17/17 [==============================] - 2s 106ms/step - loss: 0.6961 - accuracy: 0.7852 - val_loss: 0.8417 - val_accuracy: 0.6917\n",
      "Epoch 50/100\n",
      "17/17 [==============================] - 2s 106ms/step - loss: 0.6851 - accuracy: 0.7935 - val_loss: 0.8329 - val_accuracy: 0.7000\n",
      "Epoch 51/100\n",
      "17/17 [==============================] - 2s 106ms/step - loss: 0.6746 - accuracy: 0.7972 - val_loss: 0.8249 - val_accuracy: 0.7083\n",
      "Epoch 52/100\n",
      "17/17 [==============================] - 2s 106ms/step - loss: 0.6640 - accuracy: 0.8009 - val_loss: 0.8168 - val_accuracy: 0.7083\n",
      "Epoch 53/100\n",
      "17/17 [==============================] - 2s 111ms/step - loss: 0.6549 - accuracy: 0.8074 - val_loss: 0.8104 - val_accuracy: 0.7000\n",
      "Epoch 54/100\n",
      "17/17 [==============================] - 2s 106ms/step - loss: 0.6461 - accuracy: 0.8083 - val_loss: 0.8027 - val_accuracy: 0.7167\n",
      "Epoch 55/100\n",
      "17/17 [==============================] - 2s 106ms/step - loss: 0.6374 - accuracy: 0.8102 - val_loss: 0.7962 - val_accuracy: 0.7083\n",
      "Epoch 56/100\n",
      "17/17 [==============================] - 2s 106ms/step - loss: 0.6288 - accuracy: 0.8130 - val_loss: 0.7897 - val_accuracy: 0.7083\n",
      "Epoch 57/100\n",
      "17/17 [==============================] - 2s 111ms/step - loss: 0.6205 - accuracy: 0.8157 - val_loss: 0.7837 - val_accuracy: 0.7083\n",
      "Epoch 58/100\n",
      "17/17 [==============================] - 2s 106ms/step - loss: 0.6128 - accuracy: 0.8194 - val_loss: 0.7779 - val_accuracy: 0.7083\n",
      "Epoch 59/100\n",
      "17/17 [==============================] - 2s 106ms/step - loss: 0.6048 - accuracy: 0.8204 - val_loss: 0.7729 - val_accuracy: 0.7083\n",
      "Epoch 60/100\n",
      "17/17 [==============================] - 2s 106ms/step - loss: 0.5970 - accuracy: 0.8204 - val_loss: 0.7668 - val_accuracy: 0.7083\n",
      "Epoch 61/100\n",
      "17/17 [==============================] - 2s 111ms/step - loss: 0.5892 - accuracy: 0.8241 - val_loss: 0.7618 - val_accuracy: 0.7083\n",
      "Epoch 62/100\n",
      "17/17 [==============================] - 2s 106ms/step - loss: 0.5821 - accuracy: 0.8278 - val_loss: 0.7570 - val_accuracy: 0.7167\n",
      "Epoch 63/100\n",
      "17/17 [==============================] - 2s 107ms/step - loss: 0.5742 - accuracy: 0.8287 - val_loss: 0.7516 - val_accuracy: 0.7167\n",
      "Epoch 64/100\n",
      "17/17 [==============================] - 2s 106ms/step - loss: 0.5667 - accuracy: 0.8287 - val_loss: 0.7474 - val_accuracy: 0.7333\n",
      "Epoch 65/100\n",
      "17/17 [==============================] - 2s 107ms/step - loss: 0.5598 - accuracy: 0.8343 - val_loss: 0.7424 - val_accuracy: 0.7333\n",
      "Epoch 66/100\n",
      "17/17 [==============================] - 2s 106ms/step - loss: 0.5530 - accuracy: 0.8343 - val_loss: 0.7390 - val_accuracy: 0.7417\n",
      "Epoch 67/100\n",
      "17/17 [==============================] - 2s 106ms/step - loss: 0.5465 - accuracy: 0.8380 - val_loss: 0.7345 - val_accuracy: 0.7417\n",
      "Epoch 68/100\n",
      "17/17 [==============================] - 2s 106ms/step - loss: 0.5403 - accuracy: 0.8380 - val_loss: 0.7309 - val_accuracy: 0.7417\n",
      "Epoch 69/100\n",
      "17/17 [==============================] - 2s 106ms/step - loss: 0.5342 - accuracy: 0.8370 - val_loss: 0.7256 - val_accuracy: 0.7417\n",
      "Epoch 70/100\n",
      "17/17 [==============================] - 2s 106ms/step - loss: 0.5284 - accuracy: 0.8426 - val_loss: 0.7227 - val_accuracy: 0.7500\n",
      "Epoch 71/100\n",
      "17/17 [==============================] - 2s 111ms/step - loss: 0.5225 - accuracy: 0.8417 - val_loss: 0.7185 - val_accuracy: 0.7500\n",
      "Epoch 72/100\n",
      "17/17 [==============================] - 2s 111ms/step - loss: 0.5164 - accuracy: 0.8454 - val_loss: 0.7153 - val_accuracy: 0.7417\n",
      "Epoch 73/100\n",
      "17/17 [==============================] - 2s 106ms/step - loss: 0.5104 - accuracy: 0.8481 - val_loss: 0.7122 - val_accuracy: 0.7417\n",
      "Epoch 74/100\n",
      "17/17 [==============================] - 2s 106ms/step - loss: 0.5045 - accuracy: 0.8500 - val_loss: 0.7092 - val_accuracy: 0.7417\n",
      "Epoch 75/100\n",
      "17/17 [==============================] - 2s 106ms/step - loss: 0.4985 - accuracy: 0.8565 - val_loss: 0.7042 - val_accuracy: 0.7500\n",
      "Epoch 76/100\n",
      "17/17 [==============================] - 2s 111ms/step - loss: 0.4931 - accuracy: 0.8556 - val_loss: 0.7013 - val_accuracy: 0.7500\n",
      "Epoch 77/100\n",
      "17/17 [==============================] - 2s 105ms/step - loss: 0.4878 - accuracy: 0.8574 - val_loss: 0.6979 - val_accuracy: 0.7583\n",
      "Epoch 78/100\n",
      "17/17 [==============================] - 2s 106ms/step - loss: 0.4826 - accuracy: 0.8620 - val_loss: 0.6937 - val_accuracy: 0.7667\n",
      "Epoch 79/100\n",
      "17/17 [==============================] - 2s 106ms/step - loss: 0.4771 - accuracy: 0.8611 - val_loss: 0.6908 - val_accuracy: 0.7583\n",
      "Epoch 80/100\n",
      "17/17 [==============================] - 2s 111ms/step - loss: 0.4713 - accuracy: 0.8602 - val_loss: 0.6864 - val_accuracy: 0.7667\n",
      "Epoch 81/100\n",
      "17/17 [==============================] - 2s 106ms/step - loss: 0.4665 - accuracy: 0.8648 - val_loss: 0.6835 - val_accuracy: 0.7667\n",
      "Epoch 82/100\n",
      "17/17 [==============================] - 2s 106ms/step - loss: 0.4613 - accuracy: 0.8667 - val_loss: 0.6796 - val_accuracy: 0.7667\n",
      "Epoch 83/100\n",
      "17/17 [==============================] - 2s 106ms/step - loss: 0.4570 - accuracy: 0.8676 - val_loss: 0.6770 - val_accuracy: 0.7667\n",
      "Epoch 84/100\n",
      "17/17 [==============================] - 2s 106ms/step - loss: 0.4523 - accuracy: 0.8704 - val_loss: 0.6748 - val_accuracy: 0.7667\n",
      "Epoch 85/100\n",
      "17/17 [==============================] - 2s 111ms/step - loss: 0.4472 - accuracy: 0.8722 - val_loss: 0.6719 - val_accuracy: 0.7750\n",
      "Epoch 86/100\n",
      "17/17 [==============================] - 2s 105ms/step - loss: 0.4424 - accuracy: 0.8759 - val_loss: 0.6698 - val_accuracy: 0.7750\n",
      "Epoch 87/100\n",
      "17/17 [==============================] - 2s 106ms/step - loss: 0.4379 - accuracy: 0.8759 - val_loss: 0.6674 - val_accuracy: 0.7750\n",
      "Epoch 88/100\n",
      "17/17 [==============================] - 2s 111ms/step - loss: 0.4337 - accuracy: 0.8778 - val_loss: 0.6651 - val_accuracy: 0.7750\n",
      "Epoch 89/100\n",
      "17/17 [==============================] - 2s 106ms/step - loss: 0.4291 - accuracy: 0.8796 - val_loss: 0.6635 - val_accuracy: 0.7667\n",
      "Epoch 90/100\n",
      "17/17 [==============================] - 2s 106ms/step - loss: 0.4250 - accuracy: 0.8824 - val_loss: 0.6613 - val_accuracy: 0.7750\n",
      "Epoch 91/100\n",
      "17/17 [==============================] - 2s 106ms/step - loss: 0.4208 - accuracy: 0.8824 - val_loss: 0.6591 - val_accuracy: 0.7750\n",
      "Epoch 92/100\n",
      "17/17 [==============================] - 2s 111ms/step - loss: 0.4165 - accuracy: 0.8833 - val_loss: 0.6568 - val_accuracy: 0.7667\n",
      "Epoch 93/100\n",
      "17/17 [==============================] - 2s 106ms/step - loss: 0.4127 - accuracy: 0.8861 - val_loss: 0.6539 - val_accuracy: 0.7667\n",
      "Epoch 94/100\n",
      "17/17 [==============================] - 2s 106ms/step - loss: 0.4086 - accuracy: 0.8861 - val_loss: 0.6520 - val_accuracy: 0.7667\n",
      "Epoch 95/100\n",
      "17/17 [==============================] - 2s 107ms/step - loss: 0.4049 - accuracy: 0.8870 - val_loss: 0.6502 - val_accuracy: 0.7667\n",
      "Epoch 96/100\n",
      "17/17 [==============================] - 2s 106ms/step - loss: 0.4009 - accuracy: 0.8870 - val_loss: 0.6464 - val_accuracy: 0.7750\n",
      "Epoch 97/100\n",
      "17/17 [==============================] - 2s 107ms/step - loss: 0.3972 - accuracy: 0.8889 - val_loss: 0.6447 - val_accuracy: 0.7667\n",
      "Epoch 98/100\n",
      "17/17 [==============================] - 2s 106ms/step - loss: 0.3937 - accuracy: 0.8880 - val_loss: 0.6419 - val_accuracy: 0.7667\n",
      "Epoch 99/100\n",
      "17/17 [==============================] - 2s 106ms/step - loss: 0.3903 - accuracy: 0.8880 - val_loss: 0.6401 - val_accuracy: 0.7750\n",
      "Epoch 100/100\n",
      "17/17 [==============================] - 2s 106ms/step - loss: 0.3868 - accuracy: 0.8898 - val_loss: 0.6376 - val_accuracy: 0.7750\n"
     ]
    }
   ],
   "source": [
    "train_dataset = tf.data.Dataset.from_tensor_slices((X_train, Y_train)).batch(64)\n",
    "test_dataset = tf.data.Dataset.from_tensor_slices((X_test, Y_test)).batch(64)\n",
    "history = conv_model.fit(train_dataset, epochs=100, validation_data=test_dataset)"
   ]
  },
  {
   "cell_type": "markdown",
   "metadata": {},
   "source": [
    "<a name='5'></a>\n",
    "## 5 - History Object \n",
    "\n",
    "The history object is an output of the `.fit()` operation, and provides a record of all the loss and metric values in memory. It's stored as a dictionary that you can retrieve at `history.history`: "
   ]
  },
  {
   "cell_type": "code",
   "execution_count": 29,
   "metadata": {},
   "outputs": [
    {
     "data": {
      "text/plain": [
       "{'loss': [1.7941232919692993,\n",
       "  1.7774596214294434,\n",
       "  1.769600749015808,\n",
       "  1.7608195543289185,\n",
       "  1.7487833499908447,\n",
       "  1.7313913106918335,\n",
       "  1.7077478170394897,\n",
       "  1.6787468194961548,\n",
       "  1.6436997652053833,\n",
       "  1.6040921211242676,\n",
       "  1.5610579252243042,\n",
       "  1.515490174293518,\n",
       "  1.4720288515090942,\n",
       "  1.4277201890945435,\n",
       "  1.3870185613632202,\n",
       "  1.3498884439468384,\n",
       "  1.3124574422836304,\n",
       "  1.2805986404418945,\n",
       "  1.248347282409668,\n",
       "  1.2200496196746826,\n",
       "  1.1924662590026855,\n",
       "  1.1652930974960327,\n",
       "  1.13973069190979,\n",
       "  1.1136994361877441,\n",
       "  1.0904077291488647,\n",
       "  1.0662081241607666,\n",
       "  1.0438038110733032,\n",
       "  1.0212715864181519,\n",
       "  1.0008580684661865,\n",
       "  0.9800966382026672,\n",
       "  0.9605302810668945,\n",
       "  0.9419315457344055,\n",
       "  0.923457682132721,\n",
       "  0.9052892923355103,\n",
       "  0.8879144191741943,\n",
       "  0.8707451224327087,\n",
       "  0.8546841144561768,\n",
       "  0.8392168283462524,\n",
       "  0.8240038156509399,\n",
       "  0.8099119067192078,\n",
       "  0.7958378195762634,\n",
       "  0.7814974188804626,\n",
       "  0.768261730670929,\n",
       "  0.7553894519805908,\n",
       "  0.7426057457923889,\n",
       "  0.7304085493087769,\n",
       "  0.7185989022254944,\n",
       "  0.7067831158638,\n",
       "  0.6961385607719421,\n",
       "  0.6851205229759216,\n",
       "  0.6745647192001343,\n",
       "  0.664023220539093,\n",
       "  0.6549146175384521,\n",
       "  0.646134078502655,\n",
       "  0.6373791098594666,\n",
       "  0.6287757158279419,\n",
       "  0.6205226182937622,\n",
       "  0.6127578616142273,\n",
       "  0.6048408150672913,\n",
       "  0.596991777420044,\n",
       "  0.5892189741134644,\n",
       "  0.5821228623390198,\n",
       "  0.5741608738899231,\n",
       "  0.5667356848716736,\n",
       "  0.5597807168960571,\n",
       "  0.5530404448509216,\n",
       "  0.5464683771133423,\n",
       "  0.5402910709381104,\n",
       "  0.5341753363609314,\n",
       "  0.5283876061439514,\n",
       "  0.5224819183349609,\n",
       "  0.5164221525192261,\n",
       "  0.5103515386581421,\n",
       "  0.5044847130775452,\n",
       "  0.49851447343826294,\n",
       "  0.4931212365627289,\n",
       "  0.4877811670303345,\n",
       "  0.4825727641582489,\n",
       "  0.47710859775543213,\n",
       "  0.47133684158325195,\n",
       "  0.46647560596466064,\n",
       "  0.46131420135498047,\n",
       "  0.4569682776927948,\n",
       "  0.45227447152137756,\n",
       "  0.44717639684677124,\n",
       "  0.4424125552177429,\n",
       "  0.43788936734199524,\n",
       "  0.43366238474845886,\n",
       "  0.42911648750305176,\n",
       "  0.4250485599040985,\n",
       "  0.42079025506973267,\n",
       "  0.41652289032936096,\n",
       "  0.41272005438804626,\n",
       "  0.4085843861103058,\n",
       "  0.40491434931755066,\n",
       "  0.400946706533432,\n",
       "  0.3971739709377289,\n",
       "  0.39366039633750916,\n",
       "  0.39027103781700134,\n",
       "  0.38678523898124695],\n",
       " 'accuracy': [0.19907407462596893,\n",
       "  0.27037036418914795,\n",
       "  0.3194444477558136,\n",
       "  0.3740740716457367,\n",
       "  0.39629629254341125,\n",
       "  0.40648147463798523,\n",
       "  0.39907407760620117,\n",
       "  0.40925925970077515,\n",
       "  0.432407408952713,\n",
       "  0.43518519401550293,\n",
       "  0.45092591643333435,\n",
       "  0.45277777314186096,\n",
       "  0.47870370745658875,\n",
       "  0.49074074625968933,\n",
       "  0.5148147940635681,\n",
       "  0.5249999761581421,\n",
       "  0.5416666865348816,\n",
       "  0.5509259104728699,\n",
       "  0.5592592358589172,\n",
       "  0.5666666626930237,\n",
       "  0.5777778029441833,\n",
       "  0.5925925970077515,\n",
       "  0.604629635810852,\n",
       "  0.6175925731658936,\n",
       "  0.6407407522201538,\n",
       "  0.6481481194496155,\n",
       "  0.6592592597007751,\n",
       "  0.6638888716697693,\n",
       "  0.6703703999519348,\n",
       "  0.6777777671813965,\n",
       "  0.6907407641410828,\n",
       "  0.6962962746620178,\n",
       "  0.7018518447875977,\n",
       "  0.7055555582046509,\n",
       "  0.7083333134651184,\n",
       "  0.7148148417472839,\n",
       "  0.7268518805503845,\n",
       "  0.730555534362793,\n",
       "  0.7388888597488403,\n",
       "  0.7435185313224792,\n",
       "  0.7509258985519409,\n",
       "  0.7546296119689941,\n",
       "  0.7546296119689941,\n",
       "  0.7583333253860474,\n",
       "  0.7629629373550415,\n",
       "  0.7722222208976746,\n",
       "  0.7814815044403076,\n",
       "  0.7851851582527161,\n",
       "  0.7851851582527161,\n",
       "  0.7935185432434082,\n",
       "  0.7972221970558167,\n",
       "  0.8009259104728699,\n",
       "  0.8074073791503906,\n",
       "  0.8083333373069763,\n",
       "  0.8101851940155029,\n",
       "  0.8129629492759705,\n",
       "  0.8157407641410828,\n",
       "  0.8194444179534912,\n",
       "  0.8203703761100769,\n",
       "  0.8203703761100769,\n",
       "  0.8240740895271301,\n",
       "  0.8277778029441833,\n",
       "  0.8287037014961243,\n",
       "  0.8287037014961243,\n",
       "  0.8342592716217041,\n",
       "  0.8342592716217041,\n",
       "  0.8379629850387573,\n",
       "  0.8379629850387573,\n",
       "  0.8370370268821716,\n",
       "  0.8425925970077515,\n",
       "  0.8416666388511658,\n",
       "  0.845370352268219,\n",
       "  0.8481481671333313,\n",
       "  0.8500000238418579,\n",
       "  0.8564814925193787,\n",
       "  0.855555534362793,\n",
       "  0.8574073910713196,\n",
       "  0.8620370626449585,\n",
       "  0.8611111044883728,\n",
       "  0.8601852059364319,\n",
       "  0.864814817905426,\n",
       "  0.8666666746139526,\n",
       "  0.8675925731658936,\n",
       "  0.8703703880310059,\n",
       "  0.8722222447395325,\n",
       "  0.8759258985519409,\n",
       "  0.8759258985519409,\n",
       "  0.8777777552604675,\n",
       "  0.8796296119689941,\n",
       "  0.8824074268341064,\n",
       "  0.8824074268341064,\n",
       "  0.8833333253860474,\n",
       "  0.8861111402511597,\n",
       "  0.8861111402511597,\n",
       "  0.8870370388031006,\n",
       "  0.8870370388031006,\n",
       "  0.8888888955116272,\n",
       "  0.8879629373550415,\n",
       "  0.8879629373550415,\n",
       "  0.8898147940635681],\n",
       " 'val_loss': [1.7841308116912842,\n",
       "  1.7774310111999512,\n",
       "  1.7720279693603516,\n",
       "  1.7648122310638428,\n",
       "  1.7548565864562988,\n",
       "  1.7411993741989136,\n",
       "  1.7202969789505005,\n",
       "  1.6958575248718262,\n",
       "  1.6666041612625122,\n",
       "  1.631957769393921,\n",
       "  1.593387246131897,\n",
       "  1.5517876148223877,\n",
       "  1.5082781314849854,\n",
       "  1.4668903350830078,\n",
       "  1.42710542678833,\n",
       "  1.3894442319869995,\n",
       "  1.3554240465164185,\n",
       "  1.3253929615020752,\n",
       "  1.2953619956970215,\n",
       "  1.269397258758545,\n",
       "  1.2413192987442017,\n",
       "  1.2192878723144531,\n",
       "  1.191970705986023,\n",
       "  1.1731501817703247,\n",
       "  1.1506675481796265,\n",
       "  1.133942723274231,\n",
       "  1.111907720565796,\n",
       "  1.0939310789108276,\n",
       "  1.0768516063690186,\n",
       "  1.0615054368972778,\n",
       "  1.0438122749328613,\n",
       "  1.0301263332366943,\n",
       "  1.016647219657898,\n",
       "  1.004426121711731,\n",
       "  0.991775631904602,\n",
       "  0.978530764579773,\n",
       "  0.964159369468689,\n",
       "  0.9529777765274048,\n",
       "  0.9407418966293335,\n",
       "  0.9289053082466125,\n",
       "  0.9187585115432739,\n",
       "  0.9068101644515991,\n",
       "  0.895668625831604,\n",
       "  0.8858776092529297,\n",
       "  0.8760830760002136,\n",
       "  0.8674842715263367,\n",
       "  0.8582384586334229,\n",
       "  0.8499939441680908,\n",
       "  0.8417028188705444,\n",
       "  0.8329364657402039,\n",
       "  0.8249220252037048,\n",
       "  0.8167961835861206,\n",
       "  0.8103938698768616,\n",
       "  0.8026831150054932,\n",
       "  0.7961528897285461,\n",
       "  0.7897099852561951,\n",
       "  0.7836650609970093,\n",
       "  0.7778502702713013,\n",
       "  0.7729172110557556,\n",
       "  0.7667897343635559,\n",
       "  0.7617692351341248,\n",
       "  0.7570158243179321,\n",
       "  0.7516013979911804,\n",
       "  0.7474265694618225,\n",
       "  0.7424289584159851,\n",
       "  0.7389976978302002,\n",
       "  0.7345076203346252,\n",
       "  0.7309357523918152,\n",
       "  0.7255690097808838,\n",
       "  0.722680926322937,\n",
       "  0.7185471057891846,\n",
       "  0.7152698040008545,\n",
       "  0.7121931910514832,\n",
       "  0.7092478275299072,\n",
       "  0.7042465209960938,\n",
       "  0.7013453245162964,\n",
       "  0.6978607773780823,\n",
       "  0.6936824917793274,\n",
       "  0.6907711029052734,\n",
       "  0.6864014863967896,\n",
       "  0.6834940314292908,\n",
       "  0.6796433925628662,\n",
       "  0.6770212054252625,\n",
       "  0.6747967004776001,\n",
       "  0.6718987822532654,\n",
       "  0.6697717308998108,\n",
       "  0.6673948168754578,\n",
       "  0.6651153564453125,\n",
       "  0.6635022759437561,\n",
       "  0.661289393901825,\n",
       "  0.6590816378593445,\n",
       "  0.6567949056625366,\n",
       "  0.6539123058319092,\n",
       "  0.6519826650619507,\n",
       "  0.6502004265785217,\n",
       "  0.6464174389839172,\n",
       "  0.6447039246559143,\n",
       "  0.6418628692626953,\n",
       "  0.6401100158691406,\n",
       "  0.6375563740730286],\n",
       " 'val_accuracy': [0.22499999403953552,\n",
       "  0.28333333134651184,\n",
       "  0.3333333432674408,\n",
       "  0.3499999940395355,\n",
       "  0.3916666805744171,\n",
       "  0.38333332538604736,\n",
       "  0.40833333134651184,\n",
       "  0.4166666567325592,\n",
       "  0.38333332538604736,\n",
       "  0.4000000059604645,\n",
       "  0.4166666567325592,\n",
       "  0.4166666567325592,\n",
       "  0.44999998807907104,\n",
       "  0.46666666865348816,\n",
       "  0.4833333194255829,\n",
       "  0.5083333253860474,\n",
       "  0.5249999761581421,\n",
       "  0.5249999761581421,\n",
       "  0.5249999761581421,\n",
       "  0.5249999761581421,\n",
       "  0.5416666865348816,\n",
       "  0.5583333373069763,\n",
       "  0.5666666626930237,\n",
       "  0.574999988079071,\n",
       "  0.6083333492279053,\n",
       "  0.6000000238418579,\n",
       "  0.6166666746139526,\n",
       "  0.6333333253860474,\n",
       "  0.625,\n",
       "  0.6166666746139526,\n",
       "  0.6416666507720947,\n",
       "  0.6416666507720947,\n",
       "  0.6416666507720947,\n",
       "  0.6499999761581421,\n",
       "  0.6499999761581421,\n",
       "  0.6499999761581421,\n",
       "  0.6583333611488342,\n",
       "  0.6583333611488342,\n",
       "  0.6583333611488342,\n",
       "  0.6583333611488342,\n",
       "  0.6583333611488342,\n",
       "  0.6583333611488342,\n",
       "  0.6666666865348816,\n",
       "  0.675000011920929,\n",
       "  0.6833333373069763,\n",
       "  0.6833333373069763,\n",
       "  0.6833333373069763,\n",
       "  0.6916666626930237,\n",
       "  0.6916666626930237,\n",
       "  0.699999988079071,\n",
       "  0.7083333134651184,\n",
       "  0.7083333134651184,\n",
       "  0.699999988079071,\n",
       "  0.7166666388511658,\n",
       "  0.7083333134651184,\n",
       "  0.7083333134651184,\n",
       "  0.7083333134651184,\n",
       "  0.7083333134651184,\n",
       "  0.7083333134651184,\n",
       "  0.7083333134651184,\n",
       "  0.7083333134651184,\n",
       "  0.7166666388511658,\n",
       "  0.7166666388511658,\n",
       "  0.7333333492279053,\n",
       "  0.7333333492279053,\n",
       "  0.7416666746139526,\n",
       "  0.7416666746139526,\n",
       "  0.7416666746139526,\n",
       "  0.7416666746139526,\n",
       "  0.75,\n",
       "  0.75,\n",
       "  0.7416666746139526,\n",
       "  0.7416666746139526,\n",
       "  0.7416666746139526,\n",
       "  0.75,\n",
       "  0.75,\n",
       "  0.7583333253860474,\n",
       "  0.7666666507720947,\n",
       "  0.7583333253860474,\n",
       "  0.7666666507720947,\n",
       "  0.7666666507720947,\n",
       "  0.7666666507720947,\n",
       "  0.7666666507720947,\n",
       "  0.7666666507720947,\n",
       "  0.7749999761581421,\n",
       "  0.7749999761581421,\n",
       "  0.7749999761581421,\n",
       "  0.7749999761581421,\n",
       "  0.7666666507720947,\n",
       "  0.7749999761581421,\n",
       "  0.7749999761581421,\n",
       "  0.7666666507720947,\n",
       "  0.7666666507720947,\n",
       "  0.7666666507720947,\n",
       "  0.7666666507720947,\n",
       "  0.7749999761581421,\n",
       "  0.7666666507720947,\n",
       "  0.7666666507720947,\n",
       "  0.7749999761581421,\n",
       "  0.7749999761581421]}"
      ]
     },
     "execution_count": 29,
     "metadata": {},
     "output_type": "execute_result"
    }
   ],
   "source": [
    "history.history"
   ]
  },
  {
   "cell_type": "markdown",
   "metadata": {},
   "source": [
    "Now visualize the loss over time using `history.history`: "
   ]
  },
  {
   "cell_type": "code",
   "execution_count": 30,
   "metadata": {},
   "outputs": [
    {
     "data": {
      "text/plain": [
       "[Text(0, 0.5, 'Accuracy'), Text(0.5, 0, 'Epoch')]"
      ]
     },
     "execution_count": 30,
     "metadata": {},
     "output_type": "execute_result"
    },
    {
     "data": {
      "image/png": "[encoded data removed]",
      "text/plain": [
       "<Figure size 864x576 with 1 Axes>"
      ]
     },
     "metadata": {
      "needs_background": "light"
     },
     "output_type": "display_data"
    },
    {
     "data": {
      "image/png": "[encoded data removed]",
      "text/plain": [
       "<Figure size 864x576 with 1 Axes>"
      ]
     },
     "metadata": {
      "needs_background": "light"
     },
     "output_type": "display_data"
    }
   ],
   "source": [
    "# The history.history[\"loss\"] entry is a dictionary with as many values as epochs that the\n",
    "# model was trained on. \n",
    "df_loss_acc = pd.DataFrame(history.history)\n",
    "df_loss= df_loss_acc[['loss','val_loss']]\n",
    "df_loss.rename(columns={'loss':'train','val_loss':'validation'},inplace=True)\n",
    "df_acc= df_loss_acc[['accuracy','val_accuracy']]\n",
    "df_acc.rename(columns={'accuracy':'train','val_accuracy':'validation'},inplace=True)\n",
    "df_loss.plot(title='Model loss',figsize=(12,8)).set(xlabel='Epoch',ylabel='Loss')\n",
    "df_acc.plot(title='Model Accuracy',figsize=(12,8)).set(xlabel='Epoch',ylabel='Accuracy')"
   ]
  },
  {
   "cell_type": "markdown",
   "metadata": {},
   "source": [
    "**Congratulations**! You've finished the assignment and built two models: One that recognizes  smiles, and another that recognizes SIGN language with almost 80% accuracy on the test set. In addition to that, you now also understand the applications of two Keras APIs: Sequential and Functional. Nicely done! \n",
    "\n",
    "By now, you know a bit about how the Functional API works and may have glimpsed the possibilities. In your next assignment, you'll really get a feel for its power when you get the opportunity to build a very deep ConvNet, using ResNets! "
   ]
  },
  {
   "cell_type": "markdown",
   "metadata": {},
   "source": [
    "<a name='6'></a>\n",
    "## 6 - Bibliography\n",
    "\n",
    "You're always encouraged to read the official documentation. To that end, you can find the docs for the Sequential and Functional APIs here: \n",
    "\n",
    "https://www.tensorflow.org/guide/keras/sequential_model\n",
    "\n",
    "https://www.tensorflow.org/guide/keras/functional"
   ]
  }
 ],
 "metadata": {
  "coursera": {
   "course_slug": "convolutional-neural-networks",
   "graded_item_id": "bwbJV",
   "launcher_item_id": "0TkXB"
  },
  "kernelspec": {
   "display_name": "Python 3",
   "language": "python",
   "name": "python3"
  },
  "language_info": {
   "codemirror_mode": {
    "name": "ipython",
    "version": 3
   },
   "file_extension": ".py",
   "mimetype": "text/x-python",
   "name": "python",
   "nbconvert_exporter": "python",
   "pygments_lexer": "ipython3",
   "version": "3.7.6"
  }
 },
 "nbformat": 4,
 "nbformat_minor": 2
}
